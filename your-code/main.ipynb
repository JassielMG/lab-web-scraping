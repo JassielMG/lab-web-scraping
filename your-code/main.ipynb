{
 "cells": [
  {
   "cell_type": "markdown",
   "metadata": {},
   "source": [
    "# Web Scraping Lab\n",
    "\n",
    "You will find in this notebook some scrapy exercises to practise your scraping skills.\n",
    "\n",
    "**Tips:**\n",
    "\n",
    "- Check the response status code for each request to ensure you have obtained the intended contennt.\n",
    "- Print the response text in each request to understand the kind of info you are getting and its format.\n",
    "- Check for patterns in the response text to extract the data/info requested in each question.\n",
    "- Visit each url and take a look at its source through Chrome DevTools. You'll need to identify the html tags, special class names etc. used for the html content you are expected to extract."
   ]
  },
  {
   "cell_type": "markdown",
   "metadata": {},
   "source": [
    "- [Requests library](http://docs.python-requests.org/en/master/#the-user-guide) documentation \n",
    "- [Beautiful Soup Doc](https://www.crummy.com/software/BeautifulSoup/bs4/doc/)\n",
    "- [Urllib](https://docs.python.org/3/library/urllib.html#module-urllib)\n",
    "- [re lib](https://docs.python.org/3/library/re.html)\n",
    "- [lxml lib](https://lxml.de/)\n",
    "- [Scrapy](https://scrapy.org/)\n",
    "- [List of HTTP status codes](https://en.wikipedia.org/wiki/List_of_HTTP_status_codes)\n",
    "- [HTML basics](http://www.simplehtmlguide.com/cheatsheet.php)\n",
    "- [CSS basics](https://www.cssbasics.com/#page_start)"
   ]
  },
  {
   "cell_type": "markdown",
   "metadata": {},
   "source": [
    "#### Below are the libraries and modules you may need. `requests`,  `BeautifulSoup` and `pandas` are imported for you. If you prefer to use additional libraries feel free to uncomment them."
   ]
  },
  {
   "cell_type": "code",
   "execution_count": 106,
   "metadata": {},
   "outputs": [],
   "source": [
    "import requests\n",
    "from bs4 import BeautifulSoup\n",
    "import pandas as pd\n",
    "# from pprint import pprint\n",
    "# from lxml import html\n",
    "# from lxml.html import fromstring\n",
    "# import urllib.request\n",
    "# from urllib.request import urlopen\n",
    "# import random\n",
    "# import re\n",
    "# import scrapy"
   ]
  },
  {
   "cell_type": "markdown",
   "metadata": {},
   "source": [
    "#### Download, parse (using BeautifulSoup), and print the content from the Trending Developers page from GitHub:"
   ]
  },
  {
   "cell_type": "code",
   "execution_count": 107,
   "metadata": {},
   "outputs": [
    {
     "name": "stdout",
     "output_type": "stream",
     "text": [
      "200\n"
     ]
    }
   ],
   "source": [
    "# This is the url you will scrape in this exercise\n",
    "url = 'https://github.com/trending/developers'\n",
    "print(requests.get(url).status_code)"
   ]
  },
  {
   "cell_type": "code",
   "execution_count": 108,
   "metadata": {},
   "outputs": [],
   "source": [
    "#your code\n",
    "html = requests.get(url).content\n",
    "soup = BeautifulSoup(html,'lxml')\n",
    "#print(soup.prettify())\n"
   ]
  },
  {
   "cell_type": "markdown",
   "metadata": {},
   "source": [
    "#### Display the names of the trending developers retrieved in the previous step.\n",
    "\n",
    "Your output should be a Python list of developer names. Each name should not contain any html tag.\n",
    "\n",
    "**Instructions:**\n",
    "\n",
    "1. Find out the html tag and class names used for the developer names. You can achieve this using Chrome DevTools.\n",
    "\n",
    "1. Use BeautifulSoup to extract all the html elements that contain the developer names.\n",
    "\n",
    "1. Use string manipulation techniques to replace whitespaces and linebreaks (i.e. `\\n`) in the *text* of each html element. Use a list to store the clean names.\n",
    "\n",
    "1. Print the list of names.\n",
    "\n",
    "Your output should look like below:\n",
    "\n",
    "```\n",
    "['trimstray (@trimstray)',\n",
    " 'joewalnes (JoeWalnes)',\n",
    " 'charlax (Charles-AxelDein)',\n",
    " 'ForrestKnight (ForrestKnight)',\n",
    " 'revery-ui (revery-ui)',\n",
    " 'alibaba (Alibaba)',\n",
    " 'Microsoft (Microsoft)',\n",
    " 'github (GitHub)',\n",
    " 'facebook (Facebook)',\n",
    " 'boazsegev (Bo)',\n",
    " 'google (Google)',\n",
    " 'cloudfetch',\n",
    " 'sindresorhus (SindreSorhus)',\n",
    " 'tensorflow',\n",
    " 'apache (TheApacheSoftwareFoundation)',\n",
    " 'DevonCrawford (DevonCrawford)',\n",
    " 'ARMmbed (ArmMbed)',\n",
    " 'vuejs (vuejs)',\n",
    " 'fastai (fast.ai)',\n",
    " 'QiShaoXuan (Qi)',\n",
    " 'joelparkerhenderson (JoelParkerHenderson)',\n",
    " 'torvalds (LinusTorvalds)',\n",
    " 'CyC2018',\n",
    " 'komeiji-satori (神楽坂覚々)',\n",
    " 'script-8']\n",
    " ```"
   ]
  },
  {
   "cell_type": "code",
   "execution_count": 49,
   "metadata": {},
   "outputs": [
    {
     "data": {
      "text/plain": [
       "['Robert Mosolgo',\n",
       " 'Remy Sharp',\n",
       " 'Fernand Galiana',\n",
       " 'Mark Erikson',\n",
       " 'Jirka Borovec',\n",
       " 'Márk Sági-Kazár',\n",
       " 'Jed Watson',\n",
       " 'Mr.doob',\n",
       " 'PySimpleGUI',\n",
       " 'Guillaume Gomez',\n",
       " 'Ariel Mashraki',\n",
       " 'Francois Zaninotto',\n",
       " 'Thomas Steiner',\n",
       " 'Agniva De Sarker',\n",
       " 'Kirk Byers',\n",
       " 'Feross Aboukhadijeh',\n",
       " 'Felix Angelov',\n",
       " 'Jordi Boggiano',\n",
       " 'Dries Vints',\n",
       " 'Stephen Gutekanst',\n",
       " 'Dotan Simha',\n",
       " 'Bastian Köcher',\n",
       " 'Michael Klishin',\n",
       " 'Ha Thach',\n",
       " 'Javier Suárez']"
      ]
     },
     "execution_count": 49,
     "metadata": {},
     "output_type": "execute_result"
    }
   ],
   "source": [
    "#your code\n",
    "names = soup.find_all('h1',class_='h3 lh-condensed')\n",
    "names = soup.select('h1[class=\"h3 lh-condensed\"]')\n",
    "names_clean = [name.text.strip() for name in names]\n",
    "names_clean"
   ]
  },
  {
   "cell_type": "markdown",
   "metadata": {},
   "source": [
    "#### Display the trending Python repositories in GitHub\n",
    "\n",
    "The steps to solve this problem is similar to the previous one except that you need to find out the repository names instead of developer names."
   ]
  },
  {
   "cell_type": "code",
   "execution_count": 104,
   "metadata": {},
   "outputs": [
    {
     "data": {
      "text/plain": [
       "25"
      ]
     },
     "execution_count": 104,
     "metadata": {},
     "output_type": "execute_result"
    }
   ],
   "source": [
    "# This is the url you will scrape in this exercise\n",
    "url = 'https://github.com/trending/python?since=daily'\n",
    "html = requests.get(url).content\n",
    "soup = BeautifulSoup(html,'lxml')\n",
    "\n",
    "repositories = soup.select('h1[class=\"h3 lh-condensed\"] a')\n",
    "\n",
    "clean_repos = [repo.text for repo in repositories]\n",
    "repository = [repo.replace(\"/\\n\\n\",' ').strip().split()[-1] for repo in clean_repos]\n",
    "user = [repo.replace(\"/\\n\\n\",' ').strip().split()[0] for repo in clean_repos]\n",
    "len(user)"
   ]
  },
  {
   "cell_type": "code",
   "execution_count": 105,
   "metadata": {},
   "outputs": [
    {
     "data": {
      "text/plain": [
       "['public-apis',\n",
       " 'saleor',\n",
       " 'fastapi',\n",
       " 'yolov5',\n",
       " 'reddit-cryptocurrency-trading',\n",
       " 'chia-blockchain',\n",
       " 'pool-reference',\n",
       " 'zhao',\n",
       " 'd2l-en',\n",
       " 'wagtail',\n",
       " 'edgetpuxray',\n",
       " 'attention-is-all-you-need-pytorch',\n",
       " 'TFace',\n",
       " 'freqtrade',\n",
       " 'U-2-Net',\n",
       " 'tornado',\n",
       " 'mesh-transformer-jax',\n",
       " 'magic-wormhole',\n",
       " 'python-patterns',\n",
       " 'External-Attention-pytorch',\n",
       " '3d-photo-inpainting',\n",
       " 'segmentation_models.pytorch',\n",
       " 'frida',\n",
       " 'learn_python3_spider',\n",
       " 'Telethon']"
      ]
     },
     "execution_count": 105,
     "metadata": {},
     "output_type": "execute_result"
    }
   ],
   "source": [
    "#your code\n",
    "#repositories = soup.select('h1[class=\"h3 lh-condensed\"] a')\n",
    "repositories = soup.find_all('h1',class_=\"h3 lh-condensed\")\n",
    "\n",
    "clean_repos = [repo.text for repo in repositories]\n",
    "repository = [repo.replace(\"/\\n\\n\",' ').strip().split()[-1] for repo in clean_repos]\n",
    "user = [repo.replace(\"/\\n\\n\",' ').strip().split()[0] for repo in clean_repos]\n",
    "repository"
   ]
  },
  {
   "cell_type": "markdown",
   "metadata": {},
   "source": [
    "#### Display all the image links from Walt Disney wikipedia page"
   ]
  },
  {
   "cell_type": "code",
   "execution_count": 111,
   "metadata": {},
   "outputs": [
    {
     "data": {
      "text/plain": [
       "200"
      ]
     },
     "execution_count": 111,
     "metadata": {},
     "output_type": "execute_result"
    }
   ],
   "source": [
    "# This is the url you will scrape in this exercise\n",
    "url = 'https://en.wikipedia.org/wiki/Walt_Disney'\n",
    "html = requests.get(url).content\n",
    "soup= BeautifulSoup(html,'lxml')\n",
    "requests.get(url).status_code"
   ]
  },
  {
   "cell_type": "code",
   "execution_count": 117,
   "metadata": {},
   "outputs": [
    {
     "data": {
      "text/plain": [
       "['/wiki/File:Walt_Disney_1946.JPG',\n",
       " '/wiki/File:Walt_Disney_1942_signature.svg',\n",
       " '/wiki/File:Walt_Disney_envelope_ca._1921.jpg',\n",
       " '/wiki/File:Trolley_Troubles_poster.jpg',\n",
       " '/wiki/File:Steamboat-willie.jpg',\n",
       " '/wiki/File:Walt_Disney_1935.jpg',\n",
       " '/wiki/File:Walt_Disney_Snow_white_1937_trailer_screenshot_(13).jpg',\n",
       " '/wiki/File:Disney_drawing_goofy.jpg',\n",
       " '/wiki/File:DisneySchiphol1951.jpg',\n",
       " '/wiki/File:WaltDisneyplansDisneylandDec1954.jpg',\n",
       " '/wiki/File:Walt_disney_portrait_right.jpg',\n",
       " '/wiki/File:Walt_Disney_Grave.JPG',\n",
       " '/wiki/File:Roy_O._Disney_with_Company_at_Press_Conference.jpg',\n",
       " '/wiki/File:Disney_Display_Case.JPG',\n",
       " '/wiki/File:Disney1968.jpg',\n",
       " '/wiki/File:Disneyland_Resort_logo.svg',\n",
       " '/wiki/File:Animation_disc.svg',\n",
       " '/wiki/File:P_vip.svg',\n",
       " '/wiki/File:Magic_Kingdom_castle.jpg',\n",
       " '/wiki/File:Video-x-generic.svg',\n",
       " '/wiki/File:Flag_of_Los_Angeles_County,_California.svg',\n",
       " '/wiki/File:Blank_television_set.svg',\n",
       " '/wiki/File:Flag_of_the_United_States.svg']"
      ]
     },
     "execution_count": 117,
     "metadata": {},
     "output_type": "execute_result"
    }
   ],
   "source": [
    "#your code\n",
    "images_html = soup.find_all('a',class_=\"image\")\n",
    "\n",
    "images = [image['href'] for image in images_html]\n",
    "images"
   ]
  },
  {
   "cell_type": "markdown",
   "metadata": {},
   "source": [
    "#### Retrieve an arbitary Wikipedia page of \"Python\" and create a list of links on that page"
   ]
  },
  {
   "cell_type": "code",
   "execution_count": 124,
   "metadata": {},
   "outputs": [
    {
     "name": "stdout",
     "output_type": "stream",
     "text": [
      "coneccion estalecida 200\n"
     ]
    }
   ],
   "source": [
    "# This is the url you will scrape in this exercise\n",
    "url ='https://en.wikipedia.org/wiki/Python' \n",
    "try:\n",
    "    if requests.get(url).status_code == 200:\n",
    "        print('coneccion estalecida 200')\n",
    "    else:\n",
    "        raise ServerError\n",
    "except:\n",
    "    print('error al establecer coneccion')"
   ]
  },
  {
   "cell_type": "code",
   "execution_count": 133,
   "metadata": {},
   "outputs": [
    {
     "data": {
      "text/plain": [
       "['/wiki/Pythons',\n",
       " '/wiki/Python_(genus)',\n",
       " '#Computing',\n",
       " '#People',\n",
       " '#Roller_coasters',\n",
       " '#Vehicles',\n",
       " '#Weaponry',\n",
       " '#Other_uses',\n",
       " '#See_also',\n",
       " '/wiki/Python_(programming_language)',\n",
       " '/wiki/CMU_Common_Lisp',\n",
       " '/wiki/PERQ#PERQ_3',\n",
       " '/wiki/Python_of_Aenus',\n",
       " '/wiki/Python_(painter)',\n",
       " '/wiki/Python_of_Byzantium',\n",
       " '/wiki/Python_of_Catana',\n",
       " '/wiki/Python_Anghelo',\n",
       " '/wiki/Python_(Efteling)',\n",
       " '/wiki/Python_(Busch_Gardens_Tampa_Bay)',\n",
       " '/wiki/Python_(Coney_Island,_Cincinnati,_Ohio)',\n",
       " '/wiki/Python_(automobile_maker)',\n",
       " '/wiki/Python_(Ford_prototype)',\n",
       " '/wiki/Python_(missile)',\n",
       " '/wiki/Python_(nuclear_primary)',\n",
       " '/wiki/Colt_Python',\n",
       " '/wiki/PYTHON',\n",
       " '/wiki/Python_(film)',\n",
       " '/wiki/Python_(mythology)',\n",
       " '/wiki/Monty_Python',\n",
       " '/wiki/Python_(Monty)_Pictures',\n",
       " '/wiki/Cython',\n",
       " '/wiki/Pyton',\n",
       " '/wiki/Pithon']"
      ]
     },
     "execution_count": 133,
     "metadata": {},
     "output_type": "execute_result"
    }
   ],
   "source": [
    "#your code\n",
    "html = requests.get(url)\n",
    "soup = BeautifulSoup(html.content,'lxml')\n",
    "\n",
    "links_to_clean = soup.select('div[class=\"mw-parser-output\"] ul li a')\n",
    "links = [link['href'] for link in links_to_clean]\n",
    "links"
   ]
  },
  {
   "cell_type": "markdown",
   "metadata": {},
   "source": [
    "#### Number of Titles that have changed in the United States Code since its last release point "
   ]
  },
  {
   "cell_type": "code",
   "execution_count": 135,
   "metadata": {},
   "outputs": [
    {
     "name": "stdout",
     "output_type": "stream",
     "text": [
      "Coneccion establecida code 200\n"
     ]
    }
   ],
   "source": [
    "# This is the url you will scrape in this exercise\n",
    "url = 'http://uscode.house.gov/download/download.shtml'\n",
    "\n",
    "try:\n",
    "    if requests.get(url).status_code == 200:\n",
    "        print('Coneccion establecida code 200')\n",
    "    else:\n",
    "        raise ServerError\n",
    "except:\n",
    "    print('error al establecer coneccion')"
   ]
  },
  {
   "cell_type": "code",
   "execution_count": 146,
   "metadata": {},
   "outputs": [
    {
     "data": {
      "text/plain": [
       "['Title 5 - Government Organization and Employees  ',\n",
       " 'Title 6 - Domestic Security',\n",
       " 'Title 7 - Agriculture',\n",
       " 'Title 10 - Armed Forces  ',\n",
       " 'Title 12 - Banks and Banking',\n",
       " 'Title 15 - Commerce and Trade',\n",
       " 'Title 19 - Customs Duties',\n",
       " 'Title 20 - Education',\n",
       " 'Title 26 - Internal Revenue Code',\n",
       " 'Title 29 - Labor',\n",
       " 'Title 31 - Money and Finance  ',\n",
       " \"Title 38 - Veterans' Benefits  \",\n",
       " 'Title 39 - Postal Service  ',\n",
       " 'Title 41 - Public Contracts  ',\n",
       " 'Title 42 - The Public Health and Welfare',\n",
       " 'Title 45 - Railroads',\n",
       " 'Title 47 - Telecommunications',\n",
       " 'Title 49 - Transportation  ',\n",
       " 'Title 50 - War and National Defense',\n",
       " 'Title 54 - National Park Service and Related Programs  ']"
      ]
     },
     "execution_count": 146,
     "metadata": {},
     "output_type": "execute_result"
    }
   ],
   "source": [
    "#your code\n",
    "html = requests.get(url).content\n",
    "soup =  BeautifulSoup(html,'lxml')\n",
    "titles_to_clean = soup.find_all('div',class_=\"usctitlechanged\")\n",
    "titles = [title.text.strip().replace('٭',' ') for title in titles_to_clean]\n",
    "titles"
   ]
  },
  {
   "cell_type": "markdown",
   "metadata": {},
   "source": [
    "#### A Python list with the top ten FBI's Most Wanted names "
   ]
  },
  {
   "cell_type": "code",
   "execution_count": 148,
   "metadata": {},
   "outputs": [
    {
     "name": "stdout",
     "output_type": "stream",
     "text": [
      "coneccion establecida codigo:200\n"
     ]
    }
   ],
   "source": [
    "# This is the url you will scrape in this exercise\n",
    "url = 'https://www.fbi.gov/wanted/topten'\n",
    "try:\n",
    "    if requests.get(url).status_code == 200:\n",
    "        print('coneccion establecida codigo:200')\n",
    "    else:\n",
    "        raise ServerError\n",
    "except:\n",
    "    print('Error al establecer coneccion')"
   ]
  },
  {
   "cell_type": "code",
   "execution_count": 158,
   "metadata": {},
   "outputs": [
    {
     "data": {
      "text/plain": [
       "['EUGENE PALMER',\n",
       " 'RAFAEL CARO-QUINTERO',\n",
       " 'BHADRESHKUMAR CHETANBHAI PATEL',\n",
       " 'ROBERT WILLIAM FISHER',\n",
       " 'ALEJANDRO ROSALES CASTILLO',\n",
       " 'ARNOLDO JIMENEZ',\n",
       " 'JASON DEREK BROWN',\n",
       " 'ALEXIS FLORES',\n",
       " 'JOSE RODOLFO VILLARREAL-HERNANDEZ',\n",
       " 'YASER ABDEL SAID']"
      ]
     },
     "execution_count": 158,
     "metadata": {},
     "output_type": "execute_result"
    }
   ],
   "source": [
    "#your code \n",
    "html = requests.get(url).content\n",
    "soup = BeautifulSoup(html,'lxml')\n",
    "names_to_clean=soup.select(\"h3[class='title'] a\")\n",
    "names = [name.text for name in names_to_clean]\n",
    "names   "
   ]
  },
  {
   "cell_type": "markdown",
   "metadata": {},
   "source": [
    "####  20 latest earthquakes info (date, time, latitude, longitude and region name) by the EMSC as a pandas dataframe"
   ]
  },
  {
   "cell_type": "code",
   "execution_count": 6,
   "metadata": {},
   "outputs": [
    {
     "name": "stdout",
     "output_type": "stream",
     "text": [
      "coneccion establecida codigo:200\n"
     ]
    }
   ],
   "source": [
    "# This is the url you will scrape in this exercise\n",
    "url = 'https://www.emsc-csem.org/Earthquake/'\n",
    "\n",
    "try:\n",
    "    if requests.get(url).status_code == 200:\n",
    "        print('coneccion establecida codigo:200')\n",
    "    else:\n",
    "        raise ServerError\n",
    "except:\n",
    "    print('Error al establecer coneccion')"
   ]
  },
  {
   "cell_type": "code",
   "execution_count": 87,
   "metadata": {},
   "outputs": [],
   "source": [
    "#your code\n",
    "import unidecode\n",
    "import re\n",
    "from functools import reduce\n",
    "html = requests.get(url).content\n",
    "soup = BeautifulSoup(html,'lxml')\n",
    "\n",
    "\n",
    "date_time_to_clean = soup.select(\"td[class='tabev6'] b a\")\n",
    "date_time = [dt.text.split('\\xa0\\xa0\\xa0') for dt in date_time_to_clean]\n",
    "\n",
    "time=[]\n",
    "date=[]\n",
    "for i in date_time:\n",
    "    date.append(i[0])\n",
    "    time.append(i[1])\n"
   ]
  },
  {
   "cell_type": "code",
   "execution_count": 47,
   "metadata": {},
   "outputs": [],
   "source": [
    "latitude_longitude_to_clean = soup.select(\"td[class='tabev1']\")\n",
    "latitude_longitude = [la_lo.text.replace('\\xa0','') for la_lo in latitude_longitude_to_clean]\n",
    "\n",
    "latitude=[]\n",
    "longitude=[]\n",
    "for i,element in enumerate(latitude_longitude):\n",
    "    if i%2==0:\n",
    "        latitude.append(element)\n",
    "    else:\n",
    "        longitude.append(element)"
   ]
  },
  {
   "cell_type": "code",
   "execution_count": 48,
   "metadata": {},
   "outputs": [],
   "source": [
    "latitude_longitude_to_clean = soup.select(\"td[class='tabev2']\")\n",
    "latitude_longitude = [la_lo.text.replace('\\xa0','') for la_lo in latitude_longitude_to_clean]\n",
    "cardinal_directions = [i for i in latitude_longitude if i in ('N','S','E','W') ]\n",
    "direction_la = []\n",
    "direction_lo = []\n",
    "\n",
    "for i,element in enumerate(cardinal_directions):\n",
    "    if i%2==0:\n",
    "        direction_la.append(element)\n",
    "    else:\n",
    "        direction_lo.append(element)"
   ]
  },
  {
   "cell_type": "code",
   "execution_count": 69,
   "metadata": {},
   "outputs": [],
   "source": [
    "regions_to_clean = soup.select(\"td[class='tb_region']\")\n",
    "region_name = [region.text.strip('\\xa0') for region in regions_to_clean]\n"
   ]
  },
  {
   "cell_type": "code",
   "execution_count": 70,
   "metadata": {},
   "outputs": [
    {
     "name": "stdout",
     "output_type": "stream",
     "text": [
      "50\n",
      "50\n",
      "50\n",
      "50\n",
      "50\n",
      "50\n"
     ]
    }
   ],
   "source": [
    "print(len(date_time))\n",
    "print(len(longitude))\n",
    "print(len(latitude))\n",
    "print(len(direction_la))\n",
    "print(len(direction_lo))\n",
    "print(len(region_name))"
   ]
  },
  {
   "cell_type": "code",
   "execution_count": 94,
   "metadata": {},
   "outputs": [],
   "source": [
    "data = np.array([date,time,latitude,direction_la,longitude,direction_lo,region_name]).T"
   ]
  },
  {
   "cell_type": "code",
   "execution_count": 95,
   "metadata": {},
   "outputs": [],
   "source": [
    "#list(zip(date,time,latitude,direction_la,longitude,direction_lo,region_name))"
   ]
  },
  {
   "cell_type": "code",
   "execution_count": 98,
   "metadata": {},
   "outputs": [
    {
     "data": {
      "text/html": [
       "<div>\n",
       "<style scoped>\n",
       "    .dataframe tbody tr th:only-of-type {\n",
       "        vertical-align: middle;\n",
       "    }\n",
       "\n",
       "    .dataframe tbody tr th {\n",
       "        vertical-align: top;\n",
       "    }\n",
       "\n",
       "    .dataframe thead th {\n",
       "        text-align: right;\n",
       "    }\n",
       "</style>\n",
       "<table border=\"1\" class=\"dataframe\">\n",
       "  <thead>\n",
       "    <tr style=\"text-align: right;\">\n",
       "      <th></th>\n",
       "      <th>date</th>\n",
       "      <th>time</th>\n",
       "      <th>latitude</th>\n",
       "      <th>direction_la</th>\n",
       "      <th>longitude</th>\n",
       "      <th>direction_lo</th>\n",
       "      <th>region</th>\n",
       "    </tr>\n",
       "  </thead>\n",
       "  <tbody>\n",
       "    <tr>\n",
       "      <th>30</th>\n",
       "      <td>2021-07-06</td>\n",
       "      <td>23:06:39.4</td>\n",
       "      <td>18.63</td>\n",
       "      <td>N</td>\n",
       "      <td>69.03</td>\n",
       "      <td>W</td>\n",
       "      <td>STRAIT OF GIBRALTAR</td>\n",
       "    </tr>\n",
       "    <tr>\n",
       "      <th>31</th>\n",
       "      <td>2021-07-06</td>\n",
       "      <td>23:03:24.0</td>\n",
       "      <td>28.74</td>\n",
       "      <td>S</td>\n",
       "      <td>71.48</td>\n",
       "      <td>W</td>\n",
       "      <td>DOMINICAN REPUBLIC</td>\n",
       "    </tr>\n",
       "    <tr>\n",
       "      <th>32</th>\n",
       "      <td>2021-07-06</td>\n",
       "      <td>23:00:06.0</td>\n",
       "      <td>36.37</td>\n",
       "      <td>N</td>\n",
       "      <td>27.03</td>\n",
       "      <td>E</td>\n",
       "      <td>OFFSHORE ATACAMA, CHILE</td>\n",
       "    </tr>\n",
       "    <tr>\n",
       "      <th>33</th>\n",
       "      <td>2021-07-06</td>\n",
       "      <td>23:00:04.0</td>\n",
       "      <td>28.78</td>\n",
       "      <td>S</td>\n",
       "      <td>71.60</td>\n",
       "      <td>W</td>\n",
       "      <td>DODECANESE IS.-TURKEY BORDER REG</td>\n",
       "    </tr>\n",
       "    <tr>\n",
       "      <th>34</th>\n",
       "      <td>2021-07-06</td>\n",
       "      <td>22:44:27.0</td>\n",
       "      <td>31.49</td>\n",
       "      <td>S</td>\n",
       "      <td>69.53</td>\n",
       "      <td>W</td>\n",
       "      <td>OFFSHORE ATACAMA, CHILE</td>\n",
       "    </tr>\n",
       "    <tr>\n",
       "      <th>35</th>\n",
       "      <td>2021-07-06</td>\n",
       "      <td>22:31:27.0</td>\n",
       "      <td>45.40</td>\n",
       "      <td>N</td>\n",
       "      <td>15.08</td>\n",
       "      <td>E</td>\n",
       "      <td>SAN JUAN, ARGENTINA</td>\n",
       "    </tr>\n",
       "    <tr>\n",
       "      <th>36</th>\n",
       "      <td>2021-07-06</td>\n",
       "      <td>22:24:55.0</td>\n",
       "      <td>12.32</td>\n",
       "      <td>N</td>\n",
       "      <td>144.58</td>\n",
       "      <td>E</td>\n",
       "      <td>CROATIA</td>\n",
       "    </tr>\n",
       "    <tr>\n",
       "      <th>37</th>\n",
       "      <td>2021-07-06</td>\n",
       "      <td>22:17:57.7</td>\n",
       "      <td>19.37</td>\n",
       "      <td>N</td>\n",
       "      <td>155.21</td>\n",
       "      <td>W</td>\n",
       "      <td>GUAM REGION</td>\n",
       "    </tr>\n",
       "    <tr>\n",
       "      <th>38</th>\n",
       "      <td>2021-07-06</td>\n",
       "      <td>22:10:28.7</td>\n",
       "      <td>19.24</td>\n",
       "      <td>N</td>\n",
       "      <td>155.43</td>\n",
       "      <td>W</td>\n",
       "      <td>ISLAND OF HAWAII, HAWAII</td>\n",
       "    </tr>\n",
       "    <tr>\n",
       "      <th>39</th>\n",
       "      <td>2021-07-06</td>\n",
       "      <td>22:07:36.6</td>\n",
       "      <td>21.34</td>\n",
       "      <td>S</td>\n",
       "      <td>69.87</td>\n",
       "      <td>W</td>\n",
       "      <td>ISLAND OF HAWAII, HAWAII</td>\n",
       "    </tr>\n",
       "    <tr>\n",
       "      <th>40</th>\n",
       "      <td>2021-07-06</td>\n",
       "      <td>21:54:20.0</td>\n",
       "      <td>18.04</td>\n",
       "      <td>N</td>\n",
       "      <td>96.93</td>\n",
       "      <td>W</td>\n",
       "      <td>TARAPACA, CHILE</td>\n",
       "    </tr>\n",
       "    <tr>\n",
       "      <th>41</th>\n",
       "      <td>2021-07-06</td>\n",
       "      <td>21:46:41.0</td>\n",
       "      <td>19.21</td>\n",
       "      <td>N</td>\n",
       "      <td>155.42</td>\n",
       "      <td>W</td>\n",
       "      <td>OAXACA, MEXICO</td>\n",
       "    </tr>\n",
       "    <tr>\n",
       "      <th>42</th>\n",
       "      <td>2021-07-06</td>\n",
       "      <td>21:46:36.9</td>\n",
       "      <td>19.16</td>\n",
       "      <td>N</td>\n",
       "      <td>155.46</td>\n",
       "      <td>W</td>\n",
       "      <td>ISLAND OF HAWAII, HAWAII</td>\n",
       "    </tr>\n",
       "    <tr>\n",
       "      <th>43</th>\n",
       "      <td>2021-07-06</td>\n",
       "      <td>21:44:51.6</td>\n",
       "      <td>19.39</td>\n",
       "      <td>N</td>\n",
       "      <td>102.18</td>\n",
       "      <td>W</td>\n",
       "      <td>ISLAND OF HAWAII, HAWAII</td>\n",
       "    </tr>\n",
       "    <tr>\n",
       "      <th>44</th>\n",
       "      <td>2021-07-06</td>\n",
       "      <td>21:42:37.0</td>\n",
       "      <td>28.12</td>\n",
       "      <td>N</td>\n",
       "      <td>17.52</td>\n",
       "      <td>W</td>\n",
       "      <td>MICHOACAN, MEXICO</td>\n",
       "    </tr>\n",
       "    <tr>\n",
       "      <th>45</th>\n",
       "      <td>2021-07-06</td>\n",
       "      <td>21:40:28.4</td>\n",
       "      <td>17.68</td>\n",
       "      <td>S</td>\n",
       "      <td>70.01</td>\n",
       "      <td>W</td>\n",
       "      <td>CANARY ISLANDS, SPAIN REGION</td>\n",
       "    </tr>\n",
       "    <tr>\n",
       "      <th>46</th>\n",
       "      <td>2021-07-06</td>\n",
       "      <td>21:40:08.7</td>\n",
       "      <td>1.99</td>\n",
       "      <td>N</td>\n",
       "      <td>127.67</td>\n",
       "      <td>E</td>\n",
       "      <td>SOUTHERN PERU</td>\n",
       "    </tr>\n",
       "    <tr>\n",
       "      <th>47</th>\n",
       "      <td>2021-07-06</td>\n",
       "      <td>21:35:01.1</td>\n",
       "      <td>54.42</td>\n",
       "      <td>N</td>\n",
       "      <td>159.67</td>\n",
       "      <td>W</td>\n",
       "      <td>HALMAHERA, INDONESIA</td>\n",
       "    </tr>\n",
       "    <tr>\n",
       "      <th>48</th>\n",
       "      <td>2021-07-06</td>\n",
       "      <td>21:34:51.4</td>\n",
       "      <td>19.49</td>\n",
       "      <td>N</td>\n",
       "      <td>102.19</td>\n",
       "      <td>W</td>\n",
       "      <td>SOUTH OF ALASKA</td>\n",
       "    </tr>\n",
       "    <tr>\n",
       "      <th>49</th>\n",
       "      <td>2021-07-06</td>\n",
       "      <td>21:17:30.0</td>\n",
       "      <td>19.49</td>\n",
       "      <td>N</td>\n",
       "      <td>102.21</td>\n",
       "      <td>W</td>\n",
       "      <td>MICHOACAN, MEXICO</td>\n",
       "    </tr>\n",
       "  </tbody>\n",
       "</table>\n",
       "</div>"
      ],
      "text/plain": [
       "          date        time latitude direction_la longitude direction_lo  \\\n",
       "30  2021-07-06  23:06:39.4    18.63            N     69.03            W   \n",
       "31  2021-07-06  23:03:24.0    28.74            S     71.48            W   \n",
       "32  2021-07-06  23:00:06.0    36.37            N     27.03            E   \n",
       "33  2021-07-06  23:00:04.0    28.78            S     71.60            W   \n",
       "34  2021-07-06  22:44:27.0    31.49            S     69.53            W   \n",
       "35  2021-07-06  22:31:27.0    45.40            N     15.08            E   \n",
       "36  2021-07-06  22:24:55.0    12.32            N    144.58            E   \n",
       "37  2021-07-06  22:17:57.7    19.37            N    155.21            W   \n",
       "38  2021-07-06  22:10:28.7    19.24            N    155.43            W   \n",
       "39  2021-07-06  22:07:36.6    21.34            S     69.87            W   \n",
       "40  2021-07-06  21:54:20.0    18.04            N     96.93            W   \n",
       "41  2021-07-06  21:46:41.0    19.21            N    155.42            W   \n",
       "42  2021-07-06  21:46:36.9    19.16            N    155.46            W   \n",
       "43  2021-07-06  21:44:51.6    19.39            N    102.18            W   \n",
       "44  2021-07-06  21:42:37.0    28.12            N     17.52            W   \n",
       "45  2021-07-06  21:40:28.4    17.68            S     70.01            W   \n",
       "46  2021-07-06  21:40:08.7     1.99            N    127.67            E   \n",
       "47  2021-07-06  21:35:01.1    54.42            N    159.67            W   \n",
       "48  2021-07-06  21:34:51.4    19.49            N    102.19            W   \n",
       "49  2021-07-06  21:17:30.0    19.49            N    102.21            W   \n",
       "\n",
       "                              region  \n",
       "30               STRAIT OF GIBRALTAR  \n",
       "31                DOMINICAN REPUBLIC  \n",
       "32           OFFSHORE ATACAMA, CHILE  \n",
       "33  DODECANESE IS.-TURKEY BORDER REG  \n",
       "34           OFFSHORE ATACAMA, CHILE  \n",
       "35               SAN JUAN, ARGENTINA  \n",
       "36                           CROATIA  \n",
       "37                       GUAM REGION  \n",
       "38          ISLAND OF HAWAII, HAWAII  \n",
       "39          ISLAND OF HAWAII, HAWAII  \n",
       "40                   TARAPACA, CHILE  \n",
       "41                    OAXACA, MEXICO  \n",
       "42          ISLAND OF HAWAII, HAWAII  \n",
       "43          ISLAND OF HAWAII, HAWAII  \n",
       "44                 MICHOACAN, MEXICO  \n",
       "45      CANARY ISLANDS, SPAIN REGION  \n",
       "46                     SOUTHERN PERU  \n",
       "47              HALMAHERA, INDONESIA  \n",
       "48                   SOUTH OF ALASKA  \n",
       "49                 MICHOACAN, MEXICO  "
      ]
     },
     "execution_count": 98,
     "metadata": {},
     "output_type": "execute_result"
    }
   ],
   "source": [
    "import pandas as pd\n",
    "\n",
    "\n",
    "df=pd.DataFrame(data,columns=['date','time','latitude','direction_la','longitude','direction_lo','region'])\n",
    "df.tail(20)"
   ]
  },
  {
   "cell_type": "markdown",
   "metadata": {},
   "source": [
    "#### Display the date, and title of upcoming hackathon events as a Pandas dataframe table"
   ]
  },
  {
   "cell_type": "code",
   "execution_count": 1,
   "metadata": {},
   "outputs": [
    {
     "name": "stdout",
     "output_type": "stream",
     "text": [
      "Error al establecer coneccion\n"
     ]
    }
   ],
   "source": [
    "# This is the url you will scrape in this exercise\n",
    "url ='https://hackevents.co/hackathons'\n",
    "try:\n",
    "    if requests.get(url).status_code == 200:\n",
    "        print('coneccion establecida codigo:200')\n",
    "    else:\n",
    "        raise ServerError\n",
    "except:\n",
    "    print('Error al establecer coneccion')"
   ]
  },
  {
   "cell_type": "code",
   "execution_count": 104,
   "metadata": {},
   "outputs": [],
   "source": [
    "#your code\n",
    "\n",
    "# *********** La seccion de la pagina ya no existe ************************\n",
    "url ='https://hackevents.co/hackathons'\n"
   ]
  },
  {
   "cell_type": "markdown",
   "metadata": {},
   "source": [
    "#### Count number of tweets by a given Twitter account."
   ]
  },
  {
   "cell_type": "markdown",
   "metadata": {},
   "source": [
    "You will need to include a ***try/except block*** for account names not found. \n",
    "<br>***Hint:*** the program should count the number of tweets for any provided account"
   ]
  },
  {
   "cell_type": "code",
   "execution_count": 34,
   "metadata": {},
   "outputs": [
    {
     "name": "stdout",
     "output_type": "stream",
     "text": [
      "coneccion establecida codigo:200\n"
     ]
    }
   ],
   "source": [
    "# This is the url you will scrape in this exercise \n",
    "# You will need to add the account credentials to this url\n",
    "url = 'https://twitter.com/LopezObrador_'\n",
    "\n",
    "try:\n",
    "    if requests.get(url).status_code == 200:\n",
    "        print('coneccion establecida codigo:200')\n",
    "    else:\n",
    "        raise ServerError\n",
    "except:\n",
    "    print('Error al establecer coneccion')"
   ]
  },
  {
   "cell_type": "code",
   "execution_count": 85,
   "metadata": {},
   "outputs": [],
   "source": [
    "from selenium import webdriver\n",
    "import time\n",
    "#path_driver = \"/home/jassielmg/Downloads/chromedriver_linux64/chromedriver.exe\"\n",
    "driver = webdriver.Chrome(\"/home/jassielmg/Downloads/chromedriver_linux64/chromedriver\")\n",
    "driver.get('https://twitter.com/LopezObrador_')\n",
    "#tweets = driver.find_elements_by_xpath('//*[@id=\"react-root\"]/div/div/div[2]/main/div/div/div/div/div/div[1]/div[1]/div/div/div/div/div[2]/div/div') \n",
    "time.sleep(3)\n",
    "page_source = driver.page_source\n",
    "driver.quit()"
   ]
  },
  {
   "cell_type": "code",
   "execution_count": 86,
   "metadata": {},
   "outputs": [
    {
     "name": "stdout",
     "output_type": "stream",
     "text": [
      "Number of Lopez Obrador's Tweets:  5,559\n"
     ]
    }
   ],
   "source": [
    "import re\n",
    "soup = BeautifulSoup(page_source,'html5')\n",
    "s = soup.find('div',class_='css-1dbjc4n r-14lw9ot r-1h3ijdo')\n",
    "tweets = s.text\n",
    "tweets = re.findall(r'(\\d*,\\d*)',tweets)[0]\n",
    "print(\"Number of Lopez Obrador's Tweets: \",tweets)"
   ]
  },
  {
   "cell_type": "markdown",
   "metadata": {},
   "source": [
    "#### Number of followers of a given twitter account"
   ]
  },
  {
   "cell_type": "markdown",
   "metadata": {},
   "source": [
    "You will need to include a ***try/except block*** in case account/s name not found. \n",
    "<br>***Hint:*** the program should count the followers for any provided account"
   ]
  },
  {
   "cell_type": "code",
   "execution_count": 87,
   "metadata": {},
   "outputs": [
    {
     "name": "stdout",
     "output_type": "stream",
     "text": [
      "coneccion establecida codigo:200\n"
     ]
    }
   ],
   "source": [
    "# This is the url you will scrape in this exercise \n",
    "# You will need to add the account credentials to this url\n",
    "url = 'https://twitter.com/LopezObrador_'\n",
    "\n",
    "try:\n",
    "    if requests.get(url).status_code == 200:\n",
    "        print('coneccion establecida codigo:200')\n",
    "    else:\n",
    "        raise ServerError\n",
    "except:\n",
    "    print('Error al establecer coneccion')"
   ]
  },
  {
   "cell_type": "code",
   "execution_count": 88,
   "metadata": {},
   "outputs": [],
   "source": [
    "#your code\n",
    "from selenium import webdriver\n",
    "import time\n",
    "#path_driver = \"/home/jassielmg/Downloads/chromedriver_linux64/chromedriver.exe\"\n",
    "driver = webdriver.Chrome(\"/home/jassielmg/Downloads/chromedriver_linux64/chromedriver\")\n",
    "driver.get('https://twitter.com/LopezObrador_')\n",
    "#tweets = driver.find_elements_by_xpath('//*[@id=\"react-root\"]/div/div/div[2]/main/div/div/div/div/div/div[1]/div[1]/div/div/div/div/div[2]/div/div') \n",
    "time.sleep(3)\n",
    "page_source = driver.page_source\n",
    "driver.quit()"
   ]
  },
  {
   "cell_type": "code",
   "execution_count": 103,
   "metadata": {},
   "outputs": [
    {
     "name": "stdout",
     "output_type": "stream",
     "text": [
      "Number of lopez Obrador's followers:  8M\n"
     ]
    }
   ],
   "source": [
    "import re\n",
    "soup = BeautifulSoup(page_source,'html5')\n",
    "s = soup.select(\"span[class='css-901oao css-16my406 r-18jsvk2 r-poiln3 r-b88u0q r-bcqeeo r-qvutc0'] span\")\n",
    "followers = s[1].text\n",
    "print(\"Number of lopez Obrador's followers: \",followers)"
   ]
  },
  {
   "cell_type": "markdown",
   "metadata": {},
   "source": [
    "#### List all language names and number of related articles in the order they appear in wikipedia.org"
   ]
  },
  {
   "cell_type": "code",
   "execution_count": 105,
   "metadata": {},
   "outputs": [
    {
     "name": "stdout",
     "output_type": "stream",
     "text": [
      "coneccion establecida codigo:200\n"
     ]
    }
   ],
   "source": [
    "# This is the url you will scrape in this exercise\n",
    "url = 'https://www.wikipedia.org/'\n",
    "try:\n",
    "    if requests.get(url).status_code == 200:\n",
    "        print('coneccion establecida codigo:200')\n",
    "    else:\n",
    "        raise ServerError\n",
    "except:\n",
    "    print('Error al establecer coneccion')"
   ]
  },
  {
   "cell_type": "code",
   "execution_count": 168,
   "metadata": {},
   "outputs": [
    {
     "data": {
      "text/plain": [
       "['6326000',\n",
       " '1275000',\n",
       " '1696000',\n",
       " '2590000',\n",
       " '1734000',\n",
       " '2340000',\n",
       " '1206000',\n",
       " '1701000',\n",
       " '1066000',\n",
       " '1480000']"
      ]
     },
     "execution_count": 168,
     "metadata": {},
     "output_type": "execute_result"
    }
   ],
   "source": [
    "#your code\n",
    "import unidecode\n",
    "html = requests.get(url).content\n",
    "soup = BeautifulSoup(html,'lxml')\n",
    "\n",
    "language_to_clean = soup.select(\"a strong\")\n",
    "language = [i.text for i in language_to_clean]\n",
    "\n",
    "number_articles_to_clean = soup.select('small bdi[dir=\"ltr\"]')\n",
    "number_articles = [re.sub(r'\\xa0','',art.text).replace('+','') for art in number_articles_to_clean]\n",
    "number_articles "
   ]
  },
  {
   "cell_type": "markdown",
   "metadata": {},
   "source": [
    "#### A list with the different kind of datasets available in data.gov.uk "
   ]
  },
  {
   "cell_type": "code",
   "execution_count": 170,
   "metadata": {},
   "outputs": [
    {
     "name": "stdout",
     "output_type": "stream",
     "text": [
      "coneccion establecida codigo:200\n"
     ]
    }
   ],
   "source": [
    "# This is the url you will scrape in this exercise\n",
    "url = 'https://data.gov.uk/'\n",
    "try:\n",
    "    if requests.get(url).status_code == 200:\n",
    "        print('coneccion establecida codigo:200')\n",
    "    else:\n",
    "        raise ServerError\n",
    "except:\n",
    "    print('Error al establecer coneccion')"
   ]
  },
  {
   "cell_type": "code",
   "execution_count": 173,
   "metadata": {},
   "outputs": [
    {
     "data": {
      "text/plain": [
       "['Business and economy',\n",
       " 'Crime and justice',\n",
       " 'Defence',\n",
       " 'Education',\n",
       " 'Environment',\n",
       " 'Government',\n",
       " 'Government spending',\n",
       " 'Health',\n",
       " 'Mapping',\n",
       " 'Society',\n",
       " 'Towns and cities',\n",
       " 'Transport',\n",
       " 'Digital service performance',\n",
       " 'Government reference data']"
      ]
     },
     "execution_count": 173,
     "metadata": {},
     "output_type": "execute_result"
    }
   ],
   "source": [
    "#your code \n",
    "html = requests.get(url).content\n",
    "soup = BeautifulSoup(html,'lxml')\n",
    "kind_datasets_to_clean = soup.select(\"h3[class='govuk-heading-s dgu-topics__heading'] a\")\n",
    "kind_datasets = [title.text for title in kind_datasets_to_clean]\n",
    "kind_datasets"
   ]
  },
  {
   "cell_type": "markdown",
   "metadata": {},
   "source": [
    "#### Top 10 languages by number of native speakers stored in a Pandas Dataframe"
   ]
  },
  {
   "cell_type": "code",
   "execution_count": 189,
   "metadata": {},
   "outputs": [
    {
     "name": "stdout",
     "output_type": "stream",
     "text": [
      "coneccion establecida codigo:200\n"
     ]
    }
   ],
   "source": [
    "# This is the url you will scrape in this exercise\n",
    "url = 'https://en.wikipedia.org/wiki/List_of_languages_by_number_of_native_speakers'\n",
    "\n",
    "try:\n",
    "    if requests.get(url).status_code == 200:\n",
    "        print('coneccion establecida codigo:200')\n",
    "    else:\n",
    "        raise ServerError\n",
    "except:\n",
    "    print('Error al establecer coneccion')"
   ]
  },
  {
   "cell_type": "code",
   "execution_count": 240,
   "metadata": {},
   "outputs": [
    {
     "data": {
      "text/html": [
       "<div>\n",
       "<style scoped>\n",
       "    .dataframe tbody tr th:only-of-type {\n",
       "        vertical-align: middle;\n",
       "    }\n",
       "\n",
       "    .dataframe tbody tr th {\n",
       "        vertical-align: top;\n",
       "    }\n",
       "\n",
       "    .dataframe thead th {\n",
       "        text-align: right;\n",
       "    }\n",
       "</style>\n",
       "<table border=\"1\" class=\"dataframe\">\n",
       "  <thead>\n",
       "    <tr style=\"text-align: right;\">\n",
       "      <th></th>\n",
       "      <th>languages</th>\n",
       "      <th>number of speakers</th>\n",
       "    </tr>\n",
       "  </thead>\n",
       "  <tbody>\n",
       "    <tr>\n",
       "      <th>0</th>\n",
       "      <td>Mandarin Chinese</td>\n",
       "      <td>918</td>\n",
       "    </tr>\n",
       "    <tr>\n",
       "      <th>1</th>\n",
       "      <td>Spanish</td>\n",
       "      <td>480</td>\n",
       "    </tr>\n",
       "    <tr>\n",
       "      <th>2</th>\n",
       "      <td>English</td>\n",
       "      <td>379</td>\n",
       "    </tr>\n",
       "    <tr>\n",
       "      <th>3</th>\n",
       "      <td>Hindi (sanskritised Hindustani)</td>\n",
       "      <td>341</td>\n",
       "    </tr>\n",
       "    <tr>\n",
       "      <th>4</th>\n",
       "      <td>Bengali</td>\n",
       "      <td>300</td>\n",
       "    </tr>\n",
       "    <tr>\n",
       "      <th>5</th>\n",
       "      <td>Portuguese</td>\n",
       "      <td>221</td>\n",
       "    </tr>\n",
       "    <tr>\n",
       "      <th>6</th>\n",
       "      <td>Russian</td>\n",
       "      <td>154</td>\n",
       "    </tr>\n",
       "    <tr>\n",
       "      <th>7</th>\n",
       "      <td>Japanese</td>\n",
       "      <td>128</td>\n",
       "    </tr>\n",
       "    <tr>\n",
       "      <th>8</th>\n",
       "      <td>Western Punjabi</td>\n",
       "      <td>92.7</td>\n",
       "    </tr>\n",
       "    <tr>\n",
       "      <th>9</th>\n",
       "      <td>Marathi</td>\n",
       "      <td>83.1</td>\n",
       "    </tr>\n",
       "  </tbody>\n",
       "</table>\n",
       "</div>"
      ],
      "text/plain": [
       "                         languages number of speakers\n",
       "0                 Mandarin Chinese                918\n",
       "1                          Spanish                480\n",
       "2                          English                379\n",
       "3  Hindi (sanskritised Hindustani)                341\n",
       "4                          Bengali                300\n",
       "5                       Portuguese                221\n",
       "6                          Russian                154\n",
       "7                         Japanese                128\n",
       "8                  Western Punjabi               92.7\n",
       "9                          Marathi               83.1"
      ]
     },
     "execution_count": 240,
     "metadata": {},
     "output_type": "execute_result"
    }
   ],
   "source": [
    "#your code\n",
    "html = requests.get(url).content\n",
    "soup = BeautifulSoup(html,'lxml')\n",
    "\n",
    "language_to_clean = soup.select(\"tr>td:nth-child(2)\")\n",
    "language = [i.text.strip().strip('[9]10') for i in language_to_clean]\n",
    "languages = language[1:92]\n",
    "\n",
    "speakers_to_clean = soup.select(\"tr>td:nth-child(3)\")\n",
    "speakers =[s.text.strip() for s in speakers_to_clean]\n",
    "speakers = speakers[:91]\n",
    "\n",
    "df = pd.DataFrame(np.array([languages,speakers]).T,columns=['languages','number of speakers'])\n",
    "\n",
    "df.head(10)"
   ]
  },
  {
   "cell_type": "markdown",
   "metadata": {},
   "source": [
    "### BONUS QUESTIONS"
   ]
  },
  {
   "cell_type": "markdown",
   "metadata": {},
   "source": [
    "#### Scrape a certain number of tweets of a given Twitter account."
   ]
  },
  {
   "cell_type": "code",
   "execution_count": 241,
   "metadata": {},
   "outputs": [
    {
     "name": "stdout",
     "output_type": "stream",
     "text": [
      "coneccion establecida codigo:200\n"
     ]
    }
   ],
   "source": [
    "# This is the url you will scrape in this exercise \n",
    "# You will need to add the account credentials to this url\n",
    "url = 'https://twitter.com/'\n",
    "\n",
    "try:\n",
    "    if requests.get(url).status_code == 200:\n",
    "        print('coneccion establecida codigo:200')\n",
    "    else:\n",
    "        raise ServerError\n",
    "except:\n",
    "    print('Error al establecer coneccion')"
   ]
  },
  {
   "cell_type": "code",
   "execution_count": null,
   "metadata": {},
   "outputs": [],
   "source": [
    "# your code\n",
    "html = requests.get(url).content\n",
    "soup = BeautifulSoup(html,'lxml')\n",
    "\n",
    "soup.select()"
   ]
  },
  {
   "cell_type": "markdown",
   "metadata": {},
   "source": [
    "#### IMDB's Top 250 data (movie name, Initial release, director name and stars) as a pandas dataframe"
   ]
  },
  {
   "cell_type": "code",
   "execution_count": 247,
   "metadata": {},
   "outputs": [
    {
     "name": "stdout",
     "output_type": "stream",
     "text": [
      "coneccion establecida codigo:200\n"
     ]
    }
   ],
   "source": [
    "# This is the url you will scrape in this exercise \n",
    "url = 'https://www.imdb.com/chart/top'\n",
    "try:\n",
    "    if requests.get(url).status_code == 200:\n",
    "        print('coneccion establecida codigo:200')\n",
    "    else:\n",
    "        raise ServerError\n",
    "except:\n",
    "    print('Error al establecer coneccion')"
   ]
  },
  {
   "cell_type": "code",
   "execution_count": 307,
   "metadata": {},
   "outputs": [
    {
     "data": {
      "text/html": [
       "<div>\n",
       "<style scoped>\n",
       "    .dataframe tbody tr th:only-of-type {\n",
       "        vertical-align: middle;\n",
       "    }\n",
       "\n",
       "    .dataframe tbody tr th {\n",
       "        vertical-align: top;\n",
       "    }\n",
       "\n",
       "    .dataframe thead th {\n",
       "        text-align: right;\n",
       "    }\n",
       "</style>\n",
       "<table border=\"1\" class=\"dataframe\">\n",
       "  <thead>\n",
       "    <tr style=\"text-align: right;\">\n",
       "      <th></th>\n",
       "      <th>Movie</th>\n",
       "      <th>Initial release</th>\n",
       "      <th>Director</th>\n",
       "      <th>Principal actors</th>\n",
       "      <th>Rating</th>\n",
       "    </tr>\n",
       "  </thead>\n",
       "  <tbody>\n",
       "    <tr>\n",
       "      <th>0</th>\n",
       "      <td>Sueño de fuga</td>\n",
       "      <td>1994</td>\n",
       "      <td>Frank Darabont</td>\n",
       "      <td>Tim Robbins, Morgan Freeman</td>\n",
       "      <td>9.2</td>\n",
       "    </tr>\n",
       "    <tr>\n",
       "      <th>1</th>\n",
       "      <td>El Padrino</td>\n",
       "      <td>1972</td>\n",
       "      <td>Francis Ford Coppola</td>\n",
       "      <td>Marlon Brando, Al Pacino</td>\n",
       "      <td>9.1</td>\n",
       "    </tr>\n",
       "    <tr>\n",
       "      <th>2</th>\n",
       "      <td>El padrino 2a parte</td>\n",
       "      <td>1974</td>\n",
       "      <td>Francis Ford Coppola</td>\n",
       "      <td>Al Pacino, Robert De Niro</td>\n",
       "      <td>9.0</td>\n",
       "    </tr>\n",
       "    <tr>\n",
       "      <th>3</th>\n",
       "      <td>Batman: El Caballero de la Noche</td>\n",
       "      <td>2008</td>\n",
       "      <td>Christopher Nolan</td>\n",
       "      <td>Christian Bale, Heath Ledger</td>\n",
       "      <td>9.0</td>\n",
       "    </tr>\n",
       "    <tr>\n",
       "      <th>4</th>\n",
       "      <td>12 hombres en pugna</td>\n",
       "      <td>1957</td>\n",
       "      <td>Sidney Lumet</td>\n",
       "      <td>Henry Fonda, Lee J. Cobb</td>\n",
       "      <td>8.9</td>\n",
       "    </tr>\n",
       "    <tr>\n",
       "      <th>...</th>\n",
       "      <td>...</td>\n",
       "      <td>...</td>\n",
       "      <td>...</td>\n",
       "      <td>...</td>\n",
       "      <td>...</td>\n",
       "    </tr>\n",
       "    <tr>\n",
       "      <th>245</th>\n",
       "      <td>Fanny y Alexander</td>\n",
       "      <td>1982</td>\n",
       "      <td>Ingmar Bergman</td>\n",
       "      <td>Bertil Guve, Pernilla Allwin</td>\n",
       "      <td>8.0</td>\n",
       "    </tr>\n",
       "    <tr>\n",
       "      <th>246</th>\n",
       "      <td>Drishyam</td>\n",
       "      <td>2013</td>\n",
       "      <td>Jeethu Joseph</td>\n",
       "      <td>Mohanlal, Meena</td>\n",
       "      <td>8.0</td>\n",
       "    </tr>\n",
       "    <tr>\n",
       "      <th>247</th>\n",
       "      <td>Shin seiki Evangelion Gekijô-ban: Air/Magokoro...</td>\n",
       "      <td>1997</td>\n",
       "      <td>Hideaki Anno</td>\n",
       "      <td>Megumi Ogata, Megumi Hayashibara</td>\n",
       "      <td>8.0</td>\n",
       "    </tr>\n",
       "    <tr>\n",
       "      <th>248</th>\n",
       "      <td>Soul</td>\n",
       "      <td>2020</td>\n",
       "      <td>Pete Docter</td>\n",
       "      <td>Jamie Foxx, Tina Fey</td>\n",
       "      <td>8.0</td>\n",
       "    </tr>\n",
       "    <tr>\n",
       "      <th>249</th>\n",
       "      <td>Amanecer</td>\n",
       "      <td>1927</td>\n",
       "      <td>F.W. Murnau</td>\n",
       "      <td>George O'Brien, Janet Gaynor</td>\n",
       "      <td>8.0</td>\n",
       "    </tr>\n",
       "  </tbody>\n",
       "</table>\n",
       "<p>250 rows × 5 columns</p>\n",
       "</div>"
      ],
      "text/plain": [
       "                                                 Movie Initial release  \\\n",
       "0                                        Sueño de fuga            1994   \n",
       "1                                           El Padrino            1972   \n",
       "2                                  El padrino 2a parte            1974   \n",
       "3                     Batman: El Caballero de la Noche            2008   \n",
       "4                                  12 hombres en pugna            1957   \n",
       "..                                                 ...             ...   \n",
       "245                                  Fanny y Alexander            1982   \n",
       "246                                           Drishyam            2013   \n",
       "247  Shin seiki Evangelion Gekijô-ban: Air/Magokoro...            1997   \n",
       "248                                               Soul            2020   \n",
       "249                                           Amanecer            1927   \n",
       "\n",
       "                 Director                  Principal actors Rating  \n",
       "0          Frank Darabont       Tim Robbins, Morgan Freeman    9.2  \n",
       "1    Francis Ford Coppola          Marlon Brando, Al Pacino    9.1  \n",
       "2    Francis Ford Coppola         Al Pacino, Robert De Niro    9.0  \n",
       "3       Christopher Nolan      Christian Bale, Heath Ledger    9.0  \n",
       "4            Sidney Lumet          Henry Fonda, Lee J. Cobb    8.9  \n",
       "..                    ...                               ...    ...  \n",
       "245        Ingmar Bergman      Bertil Guve, Pernilla Allwin    8.0  \n",
       "246         Jeethu Joseph                   Mohanlal, Meena    8.0  \n",
       "247          Hideaki Anno  Megumi Ogata, Megumi Hayashibara    8.0  \n",
       "248           Pete Docter              Jamie Foxx, Tina Fey    8.0  \n",
       "249           F.W. Murnau      George O'Brien, Janet Gaynor    8.0  \n",
       "\n",
       "[250 rows x 5 columns]"
      ]
     },
     "execution_count": 307,
     "metadata": {},
     "output_type": "execute_result"
    }
   ],
   "source": [
    "#your code\n",
    "html = requests.get(url).content\n",
    "soup = BeautifulSoup(html,'lxml')\n",
    "\n",
    "\n",
    "movie = soup.select(\"tr td[class=titleColumn] a\")\n",
    "movie = [m.text for m in movie]\n",
    "\n",
    "year = soup.select(\"tr td span[class=secondaryInfo]\")\n",
    "year = [y.text.strip('()') for y in year]\n",
    "\n",
    "director = soup.select(\"tr td[class=titleColumn] a\")\n",
    "director = [d['title'].split(',')[0][:-7] for d in director]\n",
    "\n",
    "starts = soup.select(\"tr td[class=titleColumn] a\")\n",
    "starts = [','.join(d['title'].split(',')[1:])[1:] for d in starts]\n",
    "\n",
    "rating = soup.select(\"tr td[class='ratingColumn imdbRating'] strong\")\n",
    "rating = [r.text for r in rating]\n",
    "\n",
    "\n",
    "#df = pd.DataFrame(list(zip(movie,year,director,starts,rating)))\n",
    "\n",
    "df = pd.DataFrame({\n",
    "    'Movie':movie,\n",
    "    'Initial release':year,\n",
    "    'Director':director,\n",
    "    'Principal actors':starts,\n",
    "    'Rating':rating\n",
    "})\n",
    "\n",
    "df"
   ]
  },
  {
   "cell_type": "markdown",
   "metadata": {},
   "source": [
    "#### Find the live weather report (temperature, wind speed, description and weather) of a given city."
   ]
  },
  {
   "cell_type": "code",
   "execution_count": 8,
   "metadata": {},
   "outputs": [
    {
     "name": "stdout",
     "output_type": "stream",
     "text": [
      "Enter the city:Tepic\n"
     ]
    }
   ],
   "source": [
    "#https://openweathermap.org/current\n",
    "city = city=input('Enter the city:')\n",
    "url = 'http://api.openweathermap.org/data/2.5/weather?'+'q='+city+'&APPID=b35975e18dc93725acb092f7272cc6b8&units=metric'"
   ]
  },
  {
   "cell_type": "code",
   "execution_count": 9,
   "metadata": {},
   "outputs": [
    {
     "name": "stdout",
     "output_type": "stream",
     "text": [
      "coneccion establecida codigo:200\n"
     ]
    }
   ],
   "source": [
    "# your code\n",
    "try:\n",
    "    if requests.get(url).status_code == 200:\n",
    "        print('coneccion establecida codigo:200')\n",
    "    else:\n",
    "        raise ServerError\n",
    "except:\n",
    "    print('Error al establecer coneccion')"
   ]
  },
  {
   "cell_type": "code",
   "execution_count": 26,
   "metadata": {},
   "outputs": [
    {
     "data": {
      "text/plain": [
       "Index(['weather', 'base', 'visibility', 'dt', 'timezone', 'id', 'name', 'cod',\n",
       "       'coord.lon', 'coord.lat', 'main.temp', 'main.feels_like',\n",
       "       'main.temp_min', 'main.temp_max', 'main.pressure', 'main.humidity',\n",
       "       'wind.speed', 'wind.deg', 'clouds.all', 'sys.type', 'sys.id',\n",
       "       'sys.country', 'sys.sunrise', 'sys.sunset'],\n",
       "      dtype='object')"
      ]
     },
     "execution_count": 26,
     "metadata": {},
     "output_type": "execute_result"
    }
   ],
   "source": [
    "response = requests.get(url).json()\n",
    "\n",
    "df = pd.json_normalize(response)\n",
    "df.columns"
   ]
  },
  {
   "cell_type": "code",
   "execution_count": 33,
   "metadata": {},
   "outputs": [
    {
     "data": {
      "text/html": [
       "<div>\n",
       "<style scoped>\n",
       "    .dataframe tbody tr th:only-of-type {\n",
       "        vertical-align: middle;\n",
       "    }\n",
       "\n",
       "    .dataframe tbody tr th {\n",
       "        vertical-align: top;\n",
       "    }\n",
       "\n",
       "    .dataframe thead th {\n",
       "        text-align: right;\n",
       "    }\n",
       "</style>\n",
       "<table border=\"1\" class=\"dataframe\">\n",
       "  <thead>\n",
       "    <tr style=\"text-align: right;\">\n",
       "      <th></th>\n",
       "      <th>weather</th>\n",
       "      <th>base</th>\n",
       "      <th>visibility</th>\n",
       "      <th>dt</th>\n",
       "      <th>timezone</th>\n",
       "      <th>id</th>\n",
       "      <th>name</th>\n",
       "      <th>cod</th>\n",
       "      <th>coord.lon</th>\n",
       "      <th>coord.lat</th>\n",
       "      <th>main.temp</th>\n",
       "      <th>main.feels_like</th>\n",
       "      <th>main.temp_min</th>\n",
       "      <th>main.temp_max</th>\n",
       "      <th>main.pressure</th>\n",
       "      <th>main.humidity</th>\n",
       "      <th>wind.speed</th>\n",
       "      <th>wind.deg</th>\n",
       "      <th>clouds.all</th>\n",
       "    </tr>\n",
       "  </thead>\n",
       "  <tbody>\n",
       "    <tr>\n",
       "      <th>0</th>\n",
       "      <td>[{'id': 803, 'main': 'Clouds', 'description': ...</td>\n",
       "      <td>stations</td>\n",
       "      <td>10000</td>\n",
       "      <td>1625940061</td>\n",
       "      <td>-21600</td>\n",
       "      <td>3981941</td>\n",
       "      <td>Tepic</td>\n",
       "      <td>200</td>\n",
       "      <td>-104.9</td>\n",
       "      <td>21.5</td>\n",
       "      <td>27.72</td>\n",
       "      <td>29.15</td>\n",
       "      <td>27.72</td>\n",
       "      <td>28</td>\n",
       "      <td>1020</td>\n",
       "      <td>61</td>\n",
       "      <td>0</td>\n",
       "      <td>0</td>\n",
       "      <td>75</td>\n",
       "    </tr>\n",
       "  </tbody>\n",
       "</table>\n",
       "</div>"
      ],
      "text/plain": [
       "                                             weather      base  visibility  \\\n",
       "0  [{'id': 803, 'main': 'Clouds', 'description': ...  stations       10000   \n",
       "\n",
       "           dt  timezone       id   name  cod  coord.lon  coord.lat  main.temp  \\\n",
       "0  1625940061    -21600  3981941  Tepic  200     -104.9       21.5      27.72   \n",
       "\n",
       "   main.feels_like  main.temp_min  main.temp_max  main.pressure  \\\n",
       "0            29.15          27.72             28           1020   \n",
       "\n",
       "   main.humidity  wind.speed  wind.deg  clouds.all  \n",
       "0             61           0         0          75  "
      ]
     },
     "execution_count": 33,
     "metadata": {},
     "output_type": "execute_result"
    }
   ],
   "source": [
    "df.iloc[:,:-5]"
   ]
  },
  {
   "cell_type": "markdown",
   "metadata": {},
   "source": [
    "#### Book name, price and stock availability as a pandas dataframe."
   ]
  },
  {
   "cell_type": "code",
   "execution_count": 310,
   "metadata": {},
   "outputs": [
    {
     "name": "stdout",
     "output_type": "stream",
     "text": [
      "coneccion establecida codigo:200\n"
     ]
    }
   ],
   "source": [
    "# This is the url you will scrape in this exercise. \n",
    "# It is a fictional bookstore created to be scraped. \n",
    "url = 'http://books.toscrape.com/'\n",
    "try:\n",
    "    if requests.get(url).status_code == 200:\n",
    "        print('coneccion establecida codigo:200')\n",
    "    else:\n",
    "        raise ServerError\n",
    "except:\n",
    "    print('Error al establecer coneccion')\n"
   ]
  },
  {
   "cell_type": "code",
   "execution_count": 322,
   "metadata": {},
   "outputs": [
    {
     "data": {
      "text/html": [
       "<div>\n",
       "<style scoped>\n",
       "    .dataframe tbody tr th:only-of-type {\n",
       "        vertical-align: middle;\n",
       "    }\n",
       "\n",
       "    .dataframe tbody tr th {\n",
       "        vertical-align: top;\n",
       "    }\n",
       "\n",
       "    .dataframe thead th {\n",
       "        text-align: right;\n",
       "    }\n",
       "</style>\n",
       "<table border=\"1\" class=\"dataframe\">\n",
       "  <thead>\n",
       "    <tr style=\"text-align: right;\">\n",
       "      <th></th>\n",
       "      <th>Book</th>\n",
       "      <th>Price</th>\n",
       "      <th>Status</th>\n",
       "    </tr>\n",
       "  </thead>\n",
       "  <tbody>\n",
       "    <tr>\n",
       "      <th>0</th>\n",
       "      <td>A Light in the Attic</td>\n",
       "      <td>£51.77</td>\n",
       "      <td>In stock</td>\n",
       "    </tr>\n",
       "    <tr>\n",
       "      <th>1</th>\n",
       "      <td>Tipping the Velvet</td>\n",
       "      <td>£53.74</td>\n",
       "      <td>In stock</td>\n",
       "    </tr>\n",
       "    <tr>\n",
       "      <th>2</th>\n",
       "      <td>Soumission</td>\n",
       "      <td>£50.10</td>\n",
       "      <td>In stock</td>\n",
       "    </tr>\n",
       "    <tr>\n",
       "      <th>3</th>\n",
       "      <td>Sharp Objects</td>\n",
       "      <td>£47.82</td>\n",
       "      <td>In stock</td>\n",
       "    </tr>\n",
       "    <tr>\n",
       "      <th>4</th>\n",
       "      <td>Sapiens: A Brief History of Humankind</td>\n",
       "      <td>£54.23</td>\n",
       "      <td>In stock</td>\n",
       "    </tr>\n",
       "    <tr>\n",
       "      <th>5</th>\n",
       "      <td>The Requiem Red</td>\n",
       "      <td>£22.65</td>\n",
       "      <td>In stock</td>\n",
       "    </tr>\n",
       "    <tr>\n",
       "      <th>6</th>\n",
       "      <td>The Dirty Little Secrets of Getting Your Dream...</td>\n",
       "      <td>£33.34</td>\n",
       "      <td>In stock</td>\n",
       "    </tr>\n",
       "    <tr>\n",
       "      <th>7</th>\n",
       "      <td>The Coming Woman: A Novel Based on the Life of...</td>\n",
       "      <td>£17.93</td>\n",
       "      <td>In stock</td>\n",
       "    </tr>\n",
       "    <tr>\n",
       "      <th>8</th>\n",
       "      <td>The Boys in the Boat: Nine Americans and Their...</td>\n",
       "      <td>£22.60</td>\n",
       "      <td>In stock</td>\n",
       "    </tr>\n",
       "    <tr>\n",
       "      <th>9</th>\n",
       "      <td>The Black Maria</td>\n",
       "      <td>£52.15</td>\n",
       "      <td>In stock</td>\n",
       "    </tr>\n",
       "    <tr>\n",
       "      <th>10</th>\n",
       "      <td>Starving Hearts (Triangular Trade Trilogy, #1)</td>\n",
       "      <td>£13.99</td>\n",
       "      <td>In stock</td>\n",
       "    </tr>\n",
       "    <tr>\n",
       "      <th>11</th>\n",
       "      <td>Shakespeare's Sonnets</td>\n",
       "      <td>£20.66</td>\n",
       "      <td>In stock</td>\n",
       "    </tr>\n",
       "    <tr>\n",
       "      <th>12</th>\n",
       "      <td>Set Me Free</td>\n",
       "      <td>£17.46</td>\n",
       "      <td>In stock</td>\n",
       "    </tr>\n",
       "    <tr>\n",
       "      <th>13</th>\n",
       "      <td>Scott Pilgrim's Precious Little Life (Scott Pi...</td>\n",
       "      <td>£52.29</td>\n",
       "      <td>In stock</td>\n",
       "    </tr>\n",
       "    <tr>\n",
       "      <th>14</th>\n",
       "      <td>Rip it Up and Start Again</td>\n",
       "      <td>£35.02</td>\n",
       "      <td>In stock</td>\n",
       "    </tr>\n",
       "    <tr>\n",
       "      <th>15</th>\n",
       "      <td>Our Band Could Be Your Life: Scenes from the A...</td>\n",
       "      <td>£57.25</td>\n",
       "      <td>In stock</td>\n",
       "    </tr>\n",
       "    <tr>\n",
       "      <th>16</th>\n",
       "      <td>Olio</td>\n",
       "      <td>£23.88</td>\n",
       "      <td>In stock</td>\n",
       "    </tr>\n",
       "    <tr>\n",
       "      <th>17</th>\n",
       "      <td>Mesaerion: The Best Science Fiction Stories 18...</td>\n",
       "      <td>£37.59</td>\n",
       "      <td>In stock</td>\n",
       "    </tr>\n",
       "    <tr>\n",
       "      <th>18</th>\n",
       "      <td>Libertarianism for Beginners</td>\n",
       "      <td>£51.33</td>\n",
       "      <td>In stock</td>\n",
       "    </tr>\n",
       "    <tr>\n",
       "      <th>19</th>\n",
       "      <td>It's Only the Himalayas</td>\n",
       "      <td>£45.17</td>\n",
       "      <td>In stock</td>\n",
       "    </tr>\n",
       "  </tbody>\n",
       "</table>\n",
       "</div>"
      ],
      "text/plain": [
       "                                                 Book   Price    Status\n",
       "0                                A Light in the Attic  £51.77  In stock\n",
       "1                                  Tipping the Velvet  £53.74  In stock\n",
       "2                                          Soumission  £50.10  In stock\n",
       "3                                       Sharp Objects  £47.82  In stock\n",
       "4               Sapiens: A Brief History of Humankind  £54.23  In stock\n",
       "5                                     The Requiem Red  £22.65  In stock\n",
       "6   The Dirty Little Secrets of Getting Your Dream...  £33.34  In stock\n",
       "7   The Coming Woman: A Novel Based on the Life of...  £17.93  In stock\n",
       "8   The Boys in the Boat: Nine Americans and Their...  £22.60  In stock\n",
       "9                                     The Black Maria  £52.15  In stock\n",
       "10     Starving Hearts (Triangular Trade Trilogy, #1)  £13.99  In stock\n",
       "11                              Shakespeare's Sonnets  £20.66  In stock\n",
       "12                                        Set Me Free  £17.46  In stock\n",
       "13  Scott Pilgrim's Precious Little Life (Scott Pi...  £52.29  In stock\n",
       "14                          Rip it Up and Start Again  £35.02  In stock\n",
       "15  Our Band Could Be Your Life: Scenes from the A...  £57.25  In stock\n",
       "16                                               Olio  £23.88  In stock\n",
       "17  Mesaerion: The Best Science Fiction Stories 18...  £37.59  In stock\n",
       "18                       Libertarianism for Beginners  £51.33  In stock\n",
       "19                            It's Only the Himalayas  £45.17  In stock"
      ]
     },
     "execution_count": 322,
     "metadata": {},
     "output_type": "execute_result"
    }
   ],
   "source": [
    "#your code\n",
    "html = requests.get(url)\n",
    "soup = BeautifulSoup(html.content,'lxml')\n",
    "\n",
    "titles = soup.select('h3 a')\n",
    "title = [t['title'] for t in titles]\n",
    "\n",
    "prices = soup.select(\"p[class='price_color']\")\n",
    "price = [p.text for p in prices]\n",
    "\n",
    "stocks = soup.select(\"p[class='instock availability']\")\n",
    "stock = [s.text.strip() for s in stocks]\n",
    "\n",
    "df = pd.DataFrame({\n",
    "    'Book':title,\n",
    "    'Price':price,\n",
    "    'Status':stock\n",
    "})\n",
    "\n",
    "df"
   ]
  },
  {
   "cell_type": "code",
   "execution_count": null,
   "metadata": {},
   "outputs": [],
   "source": []
  }
 ],
 "metadata": {
  "kernelspec": {
   "display_name": "Python 3",
   "language": "python",
   "name": "python3"
  },
  "language_info": {
   "codemirror_mode": {
    "name": "ipython",
    "version": 3
   },
   "file_extension": ".py",
   "mimetype": "text/x-python",
   "name": "python",
   "nbconvert_exporter": "python",
   "pygments_lexer": "ipython3",
   "version": "3.9.5"
  }
 },
 "nbformat": 4,
 "nbformat_minor": 2
}
